{
  "nbformat": 4,
  "nbformat_minor": 0,
  "metadata": {
    "colab": {
      "name": "exploratory_data_analysis.ipynb",
      "provenance": [],
      "collapsed_sections": []
    },
    "kernelspec": {
      "name": "python3",
      "display_name": "Python 3"
    },
    "language_info": {
      "name": "python"
    }
  },
  "cells": [
    {
      "cell_type": "code",
      "execution_count": null,
      "metadata": {
        "id": "8-XeJrnGfp9m"
      },
      "outputs": [],
      "source": [
        "import pandas as pd\n",
        "import seaborn as sns\n",
        "import matplotlib.pyplot as plt\n",
        "\n",
        "%matplotlib inline"
      ]
    },
    {
      "cell_type": "code",
      "source": [
        "df = pd.read_csv('../input/train.csv')\n",
        "df.head()"
      ],
      "metadata": {
        "id": "qvXcBDW8g0cs"
      },
      "execution_count": null,
      "outputs": []
    },
    {
      "cell_type": "code",
      "source": [
        "df.info()"
      ],
      "metadata": {
        "id": "7Fttq0LDg4cR"
      },
      "execution_count": null,
      "outputs": []
    },
    {
      "cell_type": "code",
      "source": [
        "##https://matplotlib.org/stable/plot_types/index.html\n",
        "##utile per fare le visualizzazioni"
      ],
      "metadata": {
        "id": "domX-DNAivPR"
      },
      "execution_count": null,
      "outputs": []
    },
    {
      "cell_type": "code",
      "source": [
        "##guardo il plot della distribuzione \n",
        "print(df['SalePrice'].describe())\n",
        "plt.figure(figsize=(9, 8))\n",
        "sns.distplot(df['SalePrice'], color='g', bins=100, hist_kws={'alpha': 0.4});\n",
        "\n",
        "\n"
      ],
      "metadata": {
        "id": "M9aLsckvg_kL"
      },
      "execution_count": null,
      "outputs": []
    }
  ]
}